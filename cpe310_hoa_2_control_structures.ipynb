{
  "nbformat": 4,
  "nbformat_minor": 0,
  "metadata": {
    "colab": {
      "provenance": [],
      "authorship_tag": "ABX9TyOy67Zqn6Q1JDCdKS2v2sau",
      "include_colab_link": true
    },
    "kernelspec": {
      "name": "python3",
      "display_name": "Python 3"
    },
    "language_info": {
      "name": "python"
    }
  },
  "cells": [
    {
      "cell_type": "markdown",
      "metadata": {
        "id": "view-in-github",
        "colab_type": "text"
      },
      "source": [
        "<a href=\"https://colab.research.google.com/github/rehpenyljayjatico/CPE10_jatico/blob/main/cpe310_hoa_2_control_structures.ipynb\" target=\"_parent\"><img src=\"https://colab.research.google.com/assets/colab-badge.svg\" alt=\"Open In Colab\"/></a>"
      ]
    },
    {
      "cell_type": "markdown",
      "source": [
        "## Rehpenyl jay jatico\n",
        "IE22s1\n"
      ],
      "metadata": {
        "id": "ZBcsWysUDnRr"
      }
    },
    {
      "cell_type": "code",
      "execution_count": null,
      "metadata": {
        "colab": {
          "base_uri": "https://localhost:8080/"
        },
        "id": "Ej00CiZNrErW",
        "outputId": "35965eb7-05c5-4f18-eb53-680f1aab3ee8"
      },
      "outputs": [
        {
          "output_type": "stream",
          "name": "stdout",
          "text": [
            "10 is greater than 5.\n"
          ]
        }
      ],
      "source": [
        "a = 10\n",
        "b = 5\n",
        "\n",
        "if a > b:\n",
        "  print(f\"{a} is greater than {b}.\")"
      ]
    },
    {
      "cell_type": "code",
      "source": [
        "if a > b:\n",
        "  print(f\"{a} is greater than {b}.\")\n",
        "elif b > a:\n",
        "  print(f\"{b} is greater than {a}.\")\n",
        "else:\n",
        "  print(f\"{a} is not less than or greater than {b}.\")"
      ],
      "metadata": {
        "colab": {
          "base_uri": "https://localhost:8080/"
        },
        "id": "gbuP1K7Xrbbz",
        "outputId": "df07e30f-69c1-4bf0-bd73-acbcf6f9e022"
      },
      "execution_count": null,
      "outputs": [
        {
          "output_type": "stream",
          "name": "stdout",
          "text": [
            "10 is greater than 5.\n"
          ]
        }
      ]
    },
    {
      "cell_type": "code",
      "source": [
        "a = int(input(\"A: \"))\n",
        "b = int(input(\"B: \"))\n",
        "c = int(input(\"C: \"))\n",
        "\n",
        "if a > b:\n",
        "  if a > c:\n",
        "    print(f\"A({a}) i s the largest value.\")\n",
        "elif b > a:\n",
        "  print(f\"{b} is the largest value.\")\n",
        "else:\n",
        "  print(f\"{a} is not the largest value.\")"
      ],
      "metadata": {
        "colab": {
          "base_uri": "https://localhost:8080/"
        },
        "id": "VRECZe2Hrz3U",
        "outputId": "f3594250-6a01-4f34-a922-216af0f12de3"
      },
      "execution_count": null,
      "outputs": [
        {
          "output_type": "stream",
          "name": "stdout",
          "text": [
            "A: 1\n",
            "B: 2\n",
            "C: 3\n",
            "2 is the largest value.\n"
          ]
        }
      ]
    },
    {
      "cell_type": "code",
      "source": [
        "for i in range(0, 11):\n",
        "  print(i+1)\n",
        "  i += 1"
      ],
      "metadata": {
        "colab": {
          "base_uri": "https://localhost:8080/"
        },
        "id": "UDMqjbYxthDE",
        "outputId": "26aeff50-66e9-4430-ccc7-cf78303199df"
      },
      "execution_count": null,
      "outputs": [
        {
          "output_type": "stream",
          "name": "stdout",
          "text": [
            "1\n",
            "2\n",
            "3\n",
            "4\n",
            "5\n",
            "6\n",
            "7\n",
            "8\n",
            "9\n",
            "10\n",
            "11\n"
          ]
        }
      ]
    },
    {
      "cell_type": "code",
      "source": [
        "students = [\"malite\", \"marasigan\",\"jatico\"]\n",
        "print(len(students))\n",
        "\n",
        "for i in range(len(students)):\n",
        "  if students[i] == \"jatico\":\n",
        "    break\n",
        "    print(students[i])\n",
        "\n",
        "for i in range(len(students)):\n",
        "  if students[i] == \"malite\":\n",
        "    continue\n",
        "  print(students[i])"
      ],
      "metadata": {
        "colab": {
          "base_uri": "https://localhost:8080/"
        },
        "id": "t6pncuvoxNk8",
        "outputId": "9db44f13-cf2e-43f6-8881-159c3dae3c65"
      },
      "execution_count": null,
      "outputs": [
        {
          "output_type": "stream",
          "name": "stdout",
          "text": [
            "3\n",
            "marasigan\n",
            "jatico\n"
          ]
        }
      ]
    },
    {
      "cell_type": "code",
      "source": [
        "for i in students:\n",
        "  print(i)"
      ],
      "metadata": {
        "colab": {
          "base_uri": "https://localhost:8080/"
        },
        "id": "e606vKaqw567",
        "outputId": "ec315a24-1974-476e-af48-dfe2eaf20323"
      },
      "execution_count": null,
      "outputs": [
        {
          "output_type": "stream",
          "name": "stdout",
          "text": [
            "malite\n",
            "jatico\n",
            "marasigan\n"
          ]
        }
      ]
    },
    {
      "cell_type": "code",
      "source": [
        "print(list(range(len(students))))\n"
      ],
      "metadata": {
        "colab": {
          "base_uri": "https://localhost:8080/"
        },
        "id": "O9xX1ML5xVmj",
        "outputId": "f70ac0d9-2e96-4304-b0a0-e285a9a65995"
      },
      "execution_count": null,
      "outputs": [
        {
          "output_type": "stream",
          "name": "stdout",
          "text": [
            "[0, 1, 2]\n"
          ]
        }
      ]
    },
    {
      "cell_type": "code",
      "source": [
        "number = int(input(\"Enter your number --> \"))\n",
        "n = int(input(\"Test divisibility by --> \"))\n",
        "\n",
        "i = number%n\n",
        "\n",
        "if i != 0:\n",
        "    print (\"The number \",number,\" is not divisible by \",n,\"\\n\")\n"
      ],
      "metadata": {
        "colab": {
          "base_uri": "https://localhost:8080/"
        },
        "id": "QxY0RaXs2Ai1",
        "outputId": "9982b117-658d-476d-bfd0-d70ba8a6c9eb"
      },
      "execution_count": null,
      "outputs": [
        {
          "name": "stdout",
          "output_type": "stream",
          "text": [
            "Enter your number --> 10\n",
            "Test divisibility by --> 2\n"
          ]
        }
      ]
    },
    {
      "cell_type": "code",
      "source": [
        "hidden = \"Mypasscode\"\n",
        "password = input(\"Enter your password: \")\n",
        "\n",
        "if password == hidden:\n",
        "    print(input(\"You entered the right password\\n\"))\n",
        "else:\n",
        "    print(input(\"wrong password\\n\"))\n"
      ],
      "metadata": {
        "colab": {
          "base_uri": "https://localhost:8080/"
        },
        "id": "aYfwuhQL47aO",
        "outputId": "6cfaf61d-812e-48e7-9615-f3bd5df678de"
      },
      "execution_count": null,
      "outputs": [
        {
          "output_type": "stream",
          "name": "stdout",
          "text": [
            "Enter your password: qwerty12345\n",
            "wrong password\n",
            "qwerty12245\n",
            "qwerty12245\n"
          ]
        }
      ]
    },
    {
      "cell_type": "code",
      "source": [
        "names = [\"marasigan\", \"kurt\", \"jatico\"]\n",
        "j = 0\n",
        "for name in names:\n",
        "    j += 1\n",
        "    print(\"The name number\", j, \"in the list is\", name)\n"
      ],
      "metadata": {
        "colab": {
          "base_uri": "https://localhost:8080/"
        },
        "id": "eG948Ir25fEz",
        "outputId": "9c00bae2-1fa4-4d82-a7a7-55d185a3caac"
      },
      "execution_count": null,
      "outputs": [
        {
          "output_type": "stream",
          "name": "stdout",
          "text": [
            "The name number 1 in the list is marasigan\n",
            "The name number 2 in the list is kurt\n",
            "The name number 3 in the list is jatico\n"
          ]
        }
      ]
    },
    {
      "cell_type": "code",
      "source": [
        "N = int(input(\"Enter the last integer considered --> \"))\n",
        "Sum = 0\n",
        "for i in range(0, N+1, 1):\n",
        "    Sum += i**2\n",
        "print (\"The sum of the squares between 0 and\", N, \"is\", Sum)"
      ],
      "metadata": {
        "colab": {
          "base_uri": "https://localhost:8080/"
        },
        "id": "jijTfoBj9G8M",
        "outputId": "8f8e259b-48a9-4548-a072-08cb3ae76f45"
      },
      "execution_count": null,
      "outputs": [
        {
          "output_type": "stream",
          "name": "stdout",
          "text": [
            "Enter the last integer considered --> 12\n",
            "The sum of the squares between 0 and 12 is 650\n"
          ]
        }
      ]
    },
    {
      "cell_type": "code",
      "source": [
        "N = int(input(\"Enter N --> \"))\n",
        "print(\"Counting numbers from 0 to\", N, \"\\n\")\n",
        "\n",
        "i = 0\n",
        "while i < N+1:\n",
        "  print(i, \"\\n\")\n",
        "  i += 1\n"
      ],
      "metadata": {
        "colab": {
          "base_uri": "https://localhost:8080/"
        },
        "id": "cgaS9h1d7Dg7",
        "outputId": "0ca8e8dd-0833-4b90-9d9a-889f732a9875"
      },
      "execution_count": null,
      "outputs": [
        {
          "output_type": "stream",
          "name": "stdout",
          "text": [
            "Enter N --> 5\n",
            "Counting numbers from 0 to 5 \n",
            "\n",
            "0 \n",
            "\n",
            "1 \n",
            "\n",
            "2 \n",
            "\n",
            "3 \n",
            "\n",
            "4 \n",
            "\n",
            "5 \n",
            "\n"
          ]
        }
      ]
    },
    {
      "cell_type": "code",
      "source": [
        "N = int(\n",
        "  input(\"Enter N --> \"))\n",
        "for i in range(0, N+1, 1):\n",
        "    if i**2 == N:\n",
        "        break\n",
        "    else:\n",
        "        if i % 5 == 0:\n",
        "            continue\n",
        "        print(i, \"\\n\")\n"
      ],
      "metadata": {
        "colab": {
          "base_uri": "https://localhost:8080/"
        },
        "id": "ClHwTORa6SJE",
        "outputId": "5fd8bbd2-51de-47a1-8a4a-85ed6520e090"
      },
      "execution_count": null,
      "outputs": [
        {
          "output_type": "stream",
          "name": "stdout",
          "text": [
            "Enter N --> 4\n",
            "1 \n",
            "\n"
          ]
        }
      ]
    },
    {
      "cell_type": "markdown",
      "source": [
        "## Splementary\n"
      ],
      "metadata": {
        "id": "sOdeEWmACEb7"
      }
    },
    {
      "cell_type": "code",
      "source": [
        "def factorial(n):\n",
        "    if n == 0:\n",
        "        return 1\n",
        "    else:\n",
        "        return n * factorial(n-1)\n",
        "\n",
        "n = int(input(\"Enter an integer: \"))\n",
        "result = factorial(n)\n",
        "print(f\"The factorial of {n} is {result}\")\n"
      ],
      "metadata": {
        "colab": {
          "base_uri": "https://localhost:8080/"
        },
        "id": "rPLyvUq57Qj2",
        "outputId": "5a00ba3e-8d13-4b2a-8ec1-ebf209a9a074"
      },
      "execution_count": null,
      "outputs": [
        {
          "output_type": "stream",
          "name": "stdout",
          "text": [
            "Enter an integer: 1\n",
            "The factorial of 1 is 1\n"
          ]
        }
      ]
    },
    {
      "cell_type": "code",
      "source": [
        "def case_conversion(word):\n",
        "    transformed_word = ''\n",
        "    for i, char in enumerate(word):\n",
        "        if i % 2 == 0:\n",
        "            transformed_word += char.lower()\n",
        "        else:\n",
        "            transformed_word += char.upper()\n",
        "    return transformed_word\n",
        "\n",
        "word = input(\"Enter a single word: \")\n",
        "transformed = case_conversion(word)\n",
        "print(f\"Transformed word: {transformed}\")\n"
      ],
      "metadata": {
        "colab": {
          "base_uri": "https://localhost:8080/"
        },
        "id": "ovS9R7Hc7aDe",
        "outputId": "bcad7a1c-93b7-4975-8830-1a451bc7124c"
      },
      "execution_count": null,
      "outputs": [
        {
          "output_type": "stream",
          "name": "stdout",
          "text": [
            "Enter a single word: ALMIGHTY\n",
            "Transformed word: aLmIgHtY\n"
          ]
        }
      ]
    },
    {
      "cell_type": "code",
      "source": [
        "def caesar_cipher_encrypt(text, shift=3):\n",
        "    result = ''\n",
        "    for char in text:\n",
        "        if char.isalpha():\n",
        "            shifted = ord(char) + shift\n",
        "            if char.islower():\n",
        "                if shifted > ord('z'):\n",
        "                    shifted -= 26\n",
        "                result += chr(shifted)\n",
        "            elif char.isupper():\n",
        "                if shifted > ord('Z'):\n",
        "                    shifted -= 26\n",
        "                result += chr(shifted)\n",
        "        else:\n",
        "            result += char\n",
        "    return result\n",
        "\n",
        "sentence = input(\"Enter a sentence: \")\n",
        "encrypted = caesar_cipher_encrypt(sentence)\n",
        "print(f\"Encrypted message: {encrypted}\")\n"
      ],
      "metadata": {
        "colab": {
          "base_uri": "https://localhost:8080/"
        },
        "id": "3a8_M6An793_",
        "outputId": "7e237403-4e08-4ea5-fb7c-990da9e0d9a0"
      },
      "execution_count": null,
      "outputs": [
        {
          "output_type": "stream",
          "name": "stdout",
          "text": [
            "Enter a sentence: what is the purpose of life?\n",
            "Encrypted message: zkdw lv wkh sxusrvh ri olih?\n"
          ]
        }
      ]
    },
    {
      "cell_type": "code",
      "source": [
        "def caesar_cipher_decrypt(text, shift=3):\n",
        "    return caesar_cipher_encrypt(text, -shift)\n",
        "\n",
        "encrypted_message = input(\"Enter an encrypted message: \")\n",
        "decrypted = caesar_cipher_decrypt(encrypted_message)\n",
        "print(f\"Decrypted message: {decrypted}\")\n"
      ],
      "metadata": {
        "colab": {
          "base_uri": "https://localhost:8080/"
        },
        "id": "LJvKOAwI8HS_",
        "outputId": "0d5a1a50-84a9-445e-f658-a5fa6c971019"
      },
      "execution_count": null,
      "outputs": [
        {
          "output_type": "stream",
          "name": "stdout",
          "text": [
            "Enter an encrypted message: alodsuicqrtcsuoipev\n",
            "Decrypted message: ^ilaprf`noq`prlfmbs\n"
          ]
        }
      ]
    },
    {
      "cell_type": "code",
      "source": [
        "def caesar_cipher(text, shift, mode='encrypt'):\n",
        "    if mode == 'decrypt':\n",
        "        shift = -shift\n",
        "    result = ''\n",
        "    for char in text:\n",
        "        if char.isalpha():\n",
        "            shifted = ord(char) + shift\n",
        "            if char.islower():\n",
        "                if shifted > ord('z'):\n",
        "                    shifted -= 26\n",
        "                elif shifted < ord('a'):\n",
        "                    shifted += 26\n",
        "                result += chr(shifted)\n",
        "            elif char.isupper():\n",
        "                if shifted > ord('Z'):\n",
        "                    shifted -= 26\n",
        "                elif shifted < ord('A'):\n",
        "                    shifted += 26\n",
        "                result += chr(shifted)\n",
        "        else:\n",
        "            result += char\n",
        "    return result\n",
        "\n",
        "message = input(\"Enter a message: \")\n",
        "shift_value = int(input(\"Enter shift value (0-10): \"))\n",
        "mode = input(\"Choose mode (encrypt/decrypt): \").strip().lower()\n",
        "transformed_message = caesar_cipher(message, shift_value, mode)\n",
        "print(f\"Transformed message: {transformed_message}\")\n"
      ],
      "metadata": {
        "colab": {
          "base_uri": "https://localhost:8080/"
        },
        "id": "_8c0sZrv8pEx",
        "outputId": "4c381514-ce9c-434d-c559-a46f50bac199"
      },
      "execution_count": null,
      "outputs": [
        {
          "output_type": "stream",
          "name": "stdout",
          "text": [
            "Enter a message: i dont know what to put here\n",
            "Enter shift value (0-10): 7\n",
            "Choose mode (encrypt/decrypt): 2\n",
            "Transformed message: p kvua ruvd doha av wba olyl\n"
          ]
        }
      ]
    }
  ]
}