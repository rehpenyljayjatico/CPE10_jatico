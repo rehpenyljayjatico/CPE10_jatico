{
  "nbformat": 4,
  "nbformat_minor": 0,
  "metadata": {
    "colab": {
      "provenance": [],
      "authorship_tag": "ABX9TyOm3YiiiglV8+3PIj/t32vE",
      "include_colab_link": true
    },
    "kernelspec": {
      "name": "python3",
      "display_name": "Python 3"
    },
    "language_info": {
      "name": "python"
    }
  },
  "cells": [
    {
      "cell_type": "markdown",
      "metadata": {
        "id": "view-in-github",
        "colab_type": "text"
      },
      "source": [
        "<a href=\"https://colab.research.google.com/github/rehpenyljayjatico/CPE10_jatico/blob/main/CPE310%20HOA%20control%20structure.ipynb\" target=\"_parent\"><img src=\"https://colab.research.google.com/assets/colab-badge.svg\" alt=\"Open In Colab\"/></a>"
      ]
    },
    {
      "cell_type": "markdown",
      "source": [
        "## Rehpenyl jay jatico\n",
        "IE22s1\n"
      ],
      "metadata": {
        "id": "ZBcsWysUDnRr"
      }
    },
    {
      "cell_type": "code",
      "execution_count": 3,
      "metadata": {
        "colab": {
          "base_uri": "https://localhost:8080/"
        },
        "id": "Ej00CiZNrErW",
        "outputId": "35965eb7-05c5-4f18-eb53-680f1aab3ee8"
      },
      "outputs": [
        {
          "output_type": "stream",
          "name": "stdout",
          "text": [
            "10 is greater than 5.\n"
          ]
        }
      ],
      "source": [
        "a = 10\n",
        "b = 5\n",
        "\n",
        "if a > b:\n",
        "  print(f\"{a} is greater than {b}.\")"
      ]
    },
    {
      "cell_type": "code",
      "source": [
        "if a > b:\n",
        "  print(f\"{a} is greater than {b}.\")\n",
        "elif b > a:\n",
        "  print(f\"{b} is greater than {a}.\")\n",
        "else:\n",
        "  print(f\"{a} is not less than or greater than {b}.\")"
      ],
      "metadata": {
        "colab": {
          "base_uri": "https://localhost:8080/"
        },
        "id": "gbuP1K7Xrbbz",
        "outputId": "df07e30f-69c1-4bf0-bd73-acbcf6f9e022"
      },
      "execution_count": 4,
      "outputs": [
        {
          "output_type": "stream",
          "name": "stdout",
          "text": [
            "10 is greater than 5.\n"
          ]
        }
      ]
    },
    {
      "cell_type": "code",
      "source": [
        "a = int(input(\"A: \"))\n",
        "b = int(input(\"B: \"))\n",
        "c = int(input(\"C: \"))\n",
        "\n",
        "if a > b:\n",
        "  if a > c:\n",
        "    print(f\"A({a}) i s the largest value.\")\n",
        "elif b > a:\n",
        "  print(f\"{b} is the largest value.\")\n",
        "else:\n",
        "  print(f\"{a} is not the largest value.\")"
      ],
      "metadata": {
        "colab": {
          "base_uri": "https://localhost:8080/"
        },
        "id": "VRECZe2Hrz3U",
        "outputId": "f3594250-6a01-4f34-a922-216af0f12de3"
      },
      "execution_count": 7,
      "outputs": [
        {
          "output_type": "stream",
          "name": "stdout",
          "text": [
            "A: 1\n",
            "B: 2\n",
            "C: 3\n",
            "2 is the largest value.\n"
          ]
        }
      ]
    },
    {
      "cell_type": "code",
      "source": [
        "for i in range(0, 11):\n",
        "  print(i+1)\n",
        "  i += 1"
      ],
      "metadata": {
        "colab": {
          "base_uri": "https://localhost:8080/"
        },
        "id": "UDMqjbYxthDE",
        "outputId": "26aeff50-66e9-4430-ccc7-cf78303199df"
      },
      "execution_count": 9,
      "outputs": [
        {
          "output_type": "stream",
          "name": "stdout",
          "text": [
            "1\n",
            "2\n",
            "3\n",
            "4\n",
            "5\n",
            "6\n",
            "7\n",
            "8\n",
            "9\n",
            "10\n",
            "11\n"
          ]
        }
      ]
    },
    {
      "cell_type": "code",
      "source": [
        "students = [\"malite\", \"marasigan\",\"jatico\"]\n",
        "print(len(students))\n",
        "\n",
        "for i in range(len(students)):\n",
        "  if students[i] == \"jatico\":\n",
        "    break\n",
        "    print(students[i])\n",
        "\n",
        "for i in range(len(students)):\n",
        "  if students[i] == \"malite\":\n",
        "    continue\n",
        "  print(students[i])"
      ],
      "metadata": {
        "colab": {
          "base_uri": "https://localhost:8080/"
        },
        "id": "t6pncuvoxNk8",
        "outputId": "9db44f13-cf2e-43f6-8881-159c3dae3c65"
      },
      "execution_count": 35,
      "outputs": [
        {
          "output_type": "stream",
          "name": "stdout",
          "text": [
            "3\n",
            "marasigan\n",
            "jatico\n"
          ]
        }
      ]
    },
    {
      "cell_type": "code",
      "source": [
        "for i in students:\n",
        "  print(i)"
      ],
      "metadata": {
        "colab": {
          "base_uri": "https://localhost:8080/"
        },
        "id": "e606vKaqw567",
        "outputId": "ec315a24-1974-476e-af48-dfe2eaf20323"
      },
      "execution_count": 23,
      "outputs": [
        {
          "output_type": "stream",
          "name": "stdout",
          "text": [
            "malite\n",
            "jatico\n",
            "marasigan\n"
          ]
        }
      ]
    },
    {
      "cell_type": "code",
      "source": [
        "print(list(range(len(students))))\n"
      ],
      "metadata": {
        "colab": {
          "base_uri": "https://localhost:8080/"
        },
        "id": "O9xX1ML5xVmj",
        "outputId": "f70ac0d9-2e96-4304-b0a0-e285a9a65995"
      },
      "execution_count": 38,
      "outputs": [
        {
          "output_type": "stream",
          "name": "stdout",
          "text": [
            "[0, 1, 2]\n"
          ]
        }
      ]
    },
    {
      "cell_type": "code",
      "source": [
        "number = int(input(\"Enter your number --> \"))\n",
        "n = int(input(\"Test divisibility by --> \"))\n",
        "\n",
        "i = number%n\n",
        "\n",
        "if i != 0:\n",
        "    print (\"The number \",number,\" is not divisible by \",n,\"\\n\")\n"
      ],
      "metadata": {
        "colab": {
          "base_uri": "https://localhost:8080/"
        },
        "id": "QxY0RaXs2Ai1",
        "outputId": "9982b117-658d-476d-bfd0-d70ba8a6c9eb"
      },
      "execution_count": 58,
      "outputs": [
        {
          "name": "stdout",
          "output_type": "stream",
          "text": [
            "Enter your number --> 10\n",
            "Test divisibility by --> 2\n"
          ]
        }
      ]
    },
    {
      "cell_type": "code",
      "source": [
        "hidden = \"Mypasscode\"\n",
        "password = input(\"Enter your password: \")\n",
        "\n",
        "if password == hidden:\n",
        "    print(input(\"You entered the right password\\n\"))\n",
        "else:\n",
        "    print(input(\"wrong password\\n\"))\n"
      ],
      "metadata": {
        "colab": {
          "base_uri": "https://localhost:8080/"
        },
        "id": "aYfwuhQL47aO",
        "outputId": "6cfaf61d-812e-48e7-9615-f3bd5df678de"
      },
      "execution_count": 59,
      "outputs": [
        {
          "output_type": "stream",
          "name": "stdout",
          "text": [
            "Enter your password: qwerty12345\n",
            "wrong password\n",
            "qwerty12245\n",
            "qwerty12245\n"
          ]
        }
      ]
    },
    {
      "cell_type": "code",
      "source": [
        "names = [\"marasigan\", \"kurt\", \"jatico\"]\n",
        "j = 0\n",
        "for name in names:\n",
        "    j += 1\n",
        "    print(\"The name number\", j, \"in the list is\", name)\n"
      ],
      "metadata": {
        "colab": {
          "base_uri": "https://localhost:8080/"
        },
        "id": "eG948Ir25fEz",
        "outputId": "9c00bae2-1fa4-4d82-a7a7-55d185a3caac"
      },
      "execution_count": 62,
      "outputs": [
        {
          "output_type": "stream",
          "name": "stdout",
          "text": [
            "The name number 1 in the list is marasigan\n",
            "The name number 2 in the list is kurt\n",
            "The name number 3 in the list is jatico\n"
          ]
        }
      ]
    },
    {
      "cell_type": "code",
      "source": [
        "N = int(input(\"Enter the last integer considered --> \"))\n",
        "Sum = 0\n",
        "for i in range(0, N+1, 1):\n",
        "    Sum += i**2\n",
        "print (\"The sum of the squares between 0 and\", N, \"is\", Sum)"
      ],
      "metadata": {
        "colab": {
          "base_uri": "https://localhost:8080/"
        },
        "id": "jijTfoBj9G8M",
        "outputId": "8f8e259b-48a9-4548-a072-08cb3ae76f45"
      },
      "execution_count": 124,
      "outputs": [
        {
          "output_type": "stream",
          "name": "stdout",
          "text": [
            "Enter the last integer considered --> 12\n",
            "The sum of the squares between 0 and 12 is 650\n"
          ]
        }
      ]
    },
    {
      "cell_type": "code",
      "source": [
        "N = int(input(\"Enter N --> \"))\n",
        "print(\"Counting numbers from 0 to\", N, \"\\n\")\n",
        "\n",
        "i = 0\n",
        "while i < N+1:\n",
        "  print(i, \"\\n\")\n",
        "  i += 1\n"
      ],
      "metadata": {
        "colab": {
          "base_uri": "https://localhost:8080/"
        },
        "id": "cgaS9h1d7Dg7",
        "outputId": "0ca8e8dd-0833-4b90-9d9a-889f732a9875"
      },
      "execution_count": 127,
      "outputs": [
        {
          "output_type": "stream",
          "name": "stdout",
          "text": [
            "Enter N --> 5\n",
            "Counting numbers from 0 to 5 \n",
            "\n",
            "0 \n",
            "\n",
            "1 \n",
            "\n",
            "2 \n",
            "\n",
            "3 \n",
            "\n",
            "4 \n",
            "\n",
            "5 \n",
            "\n"
          ]
        }
      ]
    },
    {
      "cell_type": "code",
      "source": [
        "N = int(\n",
        "  input(\"Enter N --> \"))\n",
        "for i in range(0, N+1, 1):\n",
        "    if i**2 == N:\n",
        "        break\n",
        "    else:\n",
        "        if i % 5 == 0:\n",
        "            continue\n",
        "        print(i, \"\\n\")\n"
      ],
      "metadata": {
        "colab": {
          "base_uri": "https://localhost:8080/"
        },
        "id": "ClHwTORa6SJE",
        "outputId": "d81f56b0-680b-455f-dd3d-0500ae5dccc9"
      },
      "execution_count": 125,
      "outputs": [
        {
          "output_type": "stream",
          "name": "stdout",
          "text": [
            "Enter N --> 5\n",
            "1 \n",
            "\n",
            "2 \n",
            "\n",
            "3 \n",
            "\n",
            "4 \n",
            "\n"
          ]
        }
      ]
    },
    {
      "cell_type": "markdown",
      "source": [
        "## Splementary\n"
      ],
      "metadata": {
        "id": "sOdeEWmACEb7"
      }
    },
    {
      "cell_type": "code",
      "source": [],
      "metadata": {
        "id": "SWqwvaP8CJXE"
      },
      "execution_count": null,
      "outputs": []
    }
  ]
}