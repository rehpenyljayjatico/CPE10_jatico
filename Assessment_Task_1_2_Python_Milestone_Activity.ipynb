{
  "nbformat": 4,
  "nbformat_minor": 0,
  "metadata": {
    "colab": {
      "provenance": [],
      "authorship_tag": "ABX9TyMA9SrNKtDREpveyYCmYg2E",
      "include_colab_link": true
    },
    "kernelspec": {
      "name": "python3",
      "display_name": "Python 3"
    },
    "language_info": {
      "name": "python"
    }
  },
  "cells": [
    {
      "cell_type": "markdown",
      "metadata": {
        "id": "view-in-github",
        "colab_type": "text"
      },
      "source": [
        "<a href=\"https://colab.research.google.com/github/rehpenyljayjatico/CPE10_jatico/blob/main/Assessment_Task_1_2_Python_Milestone_Activity.ipynb\" target=\"_parent\"><img src=\"https://colab.research.google.com/assets/colab-badge.svg\" alt=\"Open In Colab\"/></a>"
      ]
    },
    {
      "cell_type": "markdown",
      "source": [
        "## Excercise 3: Personal Finance Manager"
      ],
      "metadata": {
        "id": "4jF29HHL3rRy"
      }
    },
    {
      "cell_type": "code",
      "execution_count": 86,
      "metadata": {
        "colab": {
          "base_uri": "https://localhost:8080/"
        },
        "id": "uKBHsqty3qYb",
        "outputId": "5b3aaa0b-7bdd-4a9d-9de0-4eaa8ee2d945"
      },
      "outputs": [
        {
          "output_type": "stream",
          "name": "stdout",
          "text": [
            "Enter your incomes (enter 'done' when finished):\n",
            "50000\n",
            "3000\n",
            "done\n",
            "Enter your expenses (enter 'done' when finished):\n",
            "47000\n",
            "done\n",
            "Your remaining balance is: 6000.0\n"
          ]
        }
      ],
      "source": [
        "## Exercise 3: Personal Finance Manager\n",
        "# Task 1: Write a function to add income\n",
        "def add_income(income, total):\n",
        "    return total + income\n",
        "\n",
        "# Task 2: Write a function to subtract expense\n",
        "def subtract_expense(expense, total):\n",
        "    return total - expense\n",
        "\n",
        "# Task 3: Write a function to calculate balance\n",
        "def calculate_balance(incomes, expenses):\n",
        "    total_income = sum(incomes)\n",
        "    total_expenses = sum(expenses)\n",
        "    return total_income - total_expenses\n",
        "\n",
        "# Task 4: Main program to input income and expenses and display balance\n",
        "def main():\n",
        "    incomes = []\n",
        "    expenses = []\n",
        "\n",
        "    # Input incomes\n",
        "    print(f\"Enter your incomes (enter 'done' when finished):\")\n",
        "    while True:\n",
        "        income = input()\n",
        "        if income.lower() == 'done':\n",
        "            break\n",
        "        incomes.append(float(income))\n",
        "\n",
        "    # Input expenses\n",
        "    print(f\"Enter your expenses (enter 'done' when finished):\")\n",
        "    while True:\n",
        "        expense = input()\n",
        "        if expense.lower() == 'done':\n",
        "            break\n",
        "        expenses.append(float(expense))\n",
        "\n",
        "    # Calculate and display balance\n",
        "    balance = calculate_balance(incomes, expenses)\n",
        "    print(f\"Your remaining balance is: {balance}\")\n",
        "\n",
        "    # Check if expenses exceed income\n",
        "    if balance < 0:\n",
        "        print(f\"Warning: Your expenses exceed your income!\")\n",
        "\n",
        "if __name__ == \"__main__\":\n",
        "    main()"
      ]
    },
    {
      "cell_type": "markdown",
      "source": [
        "## Exercise 4 Event planning System"
      ],
      "metadata": {
        "id": "-qDrQ9HnKt3I"
      }
    },
    {
      "cell_type": "code",
      "source": [
        "def factorial(n):\n",
        "    if n == 0 or n == 1:\n",
        "        return 1\n",
        "    else:\n",
        "        return n * factorial(n-1)\n",
        "\n",
        "def fibonacci(n):\n",
        "    if n <= 0:\n",
        "        return 0\n",
        "    elif n == 1:\n",
        "        return 1\n",
        "    else:\n",
        "        return fibonacci(n-1) + fibonacci(n-2)\n",
        "\n",
        "def total_guests(events):\n",
        "    return sum(events)\n",
        "\n",
        "def main():\n",
        "    num_events = int(input(\"Enter the number of events: \"))\n",
        "    events = []\n",
        "    for i in range(num_events):\n",
        "        guests = int(input(f\"Enter the number of guests for event {i+1}: \"))\n",
        "        events.append(guests)\n",
        "\n",
        "    total = total_guests(events)\n",
        "    print(f\"Total number of guests across all events: {total}\")\n",
        "\n",
        "    for i, guests in enumerate(events):\n",
        "        seating_arrangements = factorial(guests)\n",
        "        event_priority = fibonacci(i)\n",
        "        print(f\"Event {i+1}: Guests = {guests}, Seating Arrangements = {seating_arrangements}, Priority = {event_priority}\")\n",
        "\n",
        "if __name__ == \"__main__\":\n",
        "    main()"
      ],
      "metadata": {
        "colab": {
          "base_uri": "https://localhost:8080/"
        },
        "id": "_GNpNctLF0Yg",
        "outputId": "3bcf31e8-5c46-4ee5-e9e7-f0e7abe347a0"
      },
      "execution_count": 78,
      "outputs": [
        {
          "output_type": "stream",
          "name": "stdout",
          "text": [
            "Enter the number of events: 3\n",
            "Enter the number of guests for event 1: 10\n",
            "Enter the number of guests for event 2: 10\n",
            "Enter the number of guests for event 3: 10\n",
            "Total number of guests across all events: 30\n",
            "Event 1: Guests = 10, Seating Arrangements = 3628800, Priority = 0\n",
            "Event 2: Guests = 10, Seating Arrangements = 3628800, Priority = 1\n",
            "Event 3: Guests = 10, Seating Arrangements = 3628800, Priority = 1\n"
          ]
        }
      ]
    },
    {
      "cell_type": "code",
      "source": [],
      "metadata": {
        "id": "FY4MkdXQKy6f"
      },
      "execution_count": null,
      "outputs": []
    }
  ]
}