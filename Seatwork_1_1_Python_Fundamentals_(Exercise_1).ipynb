{
  "nbformat": 4,
  "nbformat_minor": 0,
  "metadata": {
    "colab": {
      "provenance": [],
      "authorship_tag": "ABX9TyOhhymxrvo+EyXucp8Yth4n",
      "include_colab_link": true
    },
    "kernelspec": {
      "name": "python3",
      "display_name": "Python 3"
    },
    "language_info": {
      "name": "python"
    }
  },
  "cells": [
    {
      "cell_type": "markdown",
      "metadata": {
        "id": "view-in-github",
        "colab_type": "text"
      },
      "source": [
        "<a href=\"https://colab.research.google.com/github/rehpenyljayjatico/CPE10_jatico/blob/main/Seatwork_1_1_Python_Fundamentals_(Exercise_1).ipynb\" target=\"_parent\"><img src=\"https://colab.research.google.com/assets/colab-badge.svg\" alt=\"Open In Colab\"/></a>"
      ]
    },
    {
      "cell_type": "markdown",
      "source": [
        "## Jatico Rehpenyl jay E.\n",
        "CPE310 - IE22S2\n",
        "\n",
        "test\n"
      ],
      "metadata": {
        "id": "9MAjgT0txIl5"
      }
    },
    {
      "cell_type": "code",
      "source": [
        "# Function to calculate component grades\n",
        "def calculate_component_grade(hoa, quiz, assignment):\n",
        "    return (0.5 * hoa) + (0.3 * quiz) + (0.2 * assignment)\n",
        "\n",
        "def calculate_grade(exam, cs):\n",
        "    return 0.5 * exam + 0.5 * cs\n",
        "\n",
        "# Function to calculate prelim, midterm, and final grades\n",
        "def calculate_grades(prelim_exam, prelim_hoa, prelim_quiz, prelim_assignment, midterm_exam, midterm_hoa, midterm_quiz, midterm_assignment, final_exam, final_hoa, final_quiz, final_assignment):\n",
        "    prelim_cs = calculate_component_grade(prelim_hoa, prelim_quiz, prelim_assignment)\n",
        "    prelim_grade = (0.5 * prelim_exam) + (0.5 * prelim_cs)\n",
        "\n",
        "    midterm_cs = calculate_component_grade(midterm_hoa, midterm_quiz, midterm_assignment)\n",
        "    midterm_term_grade = (0.5 * midterm_exam) + (0.5 * midterm_cs)\n",
        "    midterm_grade = (1/3 * prelim_grade) + (2/3 * midterm_term_grade)\n",
        "\n",
        "    final_cs = calculate_component_grade(final_hoa, final_quiz, final_assignment)\n",
        "    final_term_grade = (0.5 * final_exam) + (0.5 * final_cs)\n",
        "    final_grade = (1/3 * midterm_grade) + (2/3 * final_term_grade)\n",
        "\n",
        "    return prelim_grade, midterm_grade, final_grade\n",
        "\n",
        "# Main function to input and output grades\n",
        "if __name__ == \"__main__\":\n",
        "    # Input values\n",
        "    prelim_exam = float(input(\"Enter Prelim Exam grade: \"))\n",
        "    prelim_hoa = float(input(\"Enter Prelim HOA grade: \"))\n",
        "    prelim_quiz = float(input(\"Enter Prelim Quiz grade: \"))\n",
        "    prelim_assignment = float(input(\"Enter Prelim Assignment grade: \"))\n",
        "\n",
        "    midterm_exam = float(input(\"Enter Midterm Exam grade: \"))\n",
        "    midterm_hoa = float(input(\"Enter Midterm HOA grade: \"))\n",
        "    midterm_quiz = float(input(\"Enter Midterm Quiz grade: \"))\n",
        "    midterm_assignment = float(input(\"Enter Midterm Assignment grade: \"))\n",
        "\n",
        "    final_exam = float(input(\"Enter Final Exam grade: \"))\n",
        "    final_hoa = float(input(\"Enter Final HOA grade: \"))\n",
        "    final_quiz = float(input(\"Enter Final Quiz grade: \"))\n",
        "    final_assignment = float(input(\"Enter Final Assignment grade: \"))\n",
        "\n",
        "    prelim_grade, midterm_grade, final_grade = calculate_grades(prelim_exam, prelim_hoa, prelim_quiz, prelim_assignment, midterm_exam, midterm_hoa, midterm_quiz, midterm_assignment, final_exam, final_hoa, final_quiz, final_assignment)\n",
        "\n",
        "    # Output the results\n",
        "    print(f\"\\nPrelim Class Standing (CS): {prelim_cs:.2f}\")\n",
        "    print(f\"473Prelim Grade: {prelim_grade:.2f}\")\n",
        "    print(f\"Midterm Class Standing (CS): {midterm_cs:.2f}\")\n",
        "    print(f\"Midterm Grade: {midterm_grade:.2f}\")\n",
        "    print(f\"Final Class Standing (CS): {final_cs:.2f}\")\n",
        "    print(f\"Final Grade: {final_grade:.2f}\")"
      ],
      "metadata": {
        "colab": {
          "base_uri": "https://localhost:8080/"
        },
        "id": "NbuOKAN6_BeG",
        "outputId": "74ee5251-802d-4198-b24a-9ea85a67f29e"
      },
      "execution_count": 18,
      "outputs": [
        {
          "output_type": "stream",
          "name": "stdout",
          "text": [
            "Enter Prelim Exam grade: 77\n",
            "Enter Prelim HOA grade: 56\n",
            "Enter Prelim Quiz grade: 34\n",
            "Enter Prelim Assignment grade: 7\n",
            "Enter Midterm Exam grade: 76\n",
            "Enter Midterm HOA grade: 99\n",
            "Enter Midterm Quiz grade: 8\n",
            "Enter Midterm Assignment grade: 9\n",
            "Enter Final Exam grade: 100\n",
            "Enter Final HOA grade: 47\n",
            "Enter Final Quiz grade: 89\n",
            "Enter Final Assignment grade: 45\n",
            "\n",
            "Prelim Class Standing (CS): 32.00\n",
            "Prelim Grade: 58.30\n",
            "Midterm Class Standing (CS): 20.30\n",
            "Midterm Grade: 62.67\n",
            "Final Class Standing (CS): 46.80\n",
            "Final Grade: 73.96\n"
          ]
        }
      ]
    },
    {
      "cell_type": "markdown",
      "source": [
        "## Suplementary Activity"
      ],
      "metadata": {
        "id": "85gYw42V75Km"
      }
    },
    {
      "cell_type": "code",
      "source": [
        "# Function to calculate final grade\n",
        "def calculate_final_grade(prelim, midterm, final):\n",
        "    return (prelim + midterm + final) / 3\n",
        "\n",
        "# Function to convert percentage grade to T.I.P. numerical grade\n",
        "def convert_to_tip_grade(percentage):\n",
        "    if 94 <= percentage <= 100:\n",
        "        return 1.00, \"Excellent\"\n",
        "    elif 88.5 <= percentage < 94:\n",
        "        return 1.25, \"Superior\"\n",
        "    elif 83 <= percentage < 88.5:\n",
        "        return 1.50, \"Meritorious\"\n",
        "    elif 77.5 <= percentage < 83:\n",
        "        return 1.75, \"Very Good\"\n",
        "    elif 72 <= percentage < 77.5:\n",
        "        return 2.00, \"Good\"\n",
        "    elif 65.5 <= percentage < 72:\n",
        "        return 2.25, \"Very Satisfactory\"\n",
        "    elif 61 <= percentage < 65.5:\n",
        "        return 2.50, \"Satisfactory\"\n",
        "    elif 55.5 <= percentage < 61:\n",
        "        return 2.75, \"Fair\"\n",
        "    elif 50 <= percentage < 55.5:\n",
        "        return 3.00, \"Passing\"\n",
        "    else:\n",
        "        return 5.00, \"Failed\"\n",
        "\n",
        "# Function to get student grades and display results\n",
        "def get_student_grades():\n",
        "    students = []\n",
        "\n",
        "    for i in range(3):\n",
        "        name = input(\"Enter student's name: \")\n",
        "        prelim = float(input(\"Enter Prelim grade: \"))\n",
        "        midterm = float(input(\"Enter Midterm grade: \"))\n",
        "        final = float(input(\"Enter Final grade: \"))\n",
        "\n",
        "        final_grade = calculate_final_grade(prelim, midterm, final)\n",
        "        tip_grade, rating = convert_to_tip_grade(final_grade)\n",
        "\n",
        "        students.append({\n",
        "            'name': name,\n",
        "            'prelim': prelim,\n",
        "            'midterm': midterm,\n",
        "            'final': final,\n",
        "            'final_grade': final_grade,\n",
        "            'tip_grade': tip_grade,\n",
        "            'rating': rating\n",
        "        })\n",
        "\n",
        "    return students\n",
        "\n",
        "# Main function\n",
        "if __name__ == \"__main__\":\n",
        "    student_grades = get_student_grades()\n",
        "\n",
        "    for student in student_grades:\n",
        "        print(f\"\\nStudent Name: {student['name']}\")\n",
        "        print(f\"Prelim Grade: {student['prelim']}\")\n",
        "        print(f\"Midterm Grade: {student['midterm']}\")\n",
        "        print(f\"Final Grade: {student['final']}\")\n",
        "        print(f\"Final Grade (Percentage): {student['final_grade']:.2f}\")\n",
        "        print(f\"T.I.P. Numerical Grade: {student['tip_grade']}\")\n",
        "        print(f\"Descriptive Rating: {student['rating']}\")"
      ],
      "metadata": {
        "colab": {
          "base_uri": "https://localhost:8080/"
        },
        "id": "GmRSAfwq-uyW",
        "outputId": "f4659c11-3207-46d5-9cbc-74d1df4c5c76"
      },
      "execution_count": 19,
      "outputs": [
        {
          "output_type": "stream",
          "name": "stdout",
          "text": [
            "Enter student's name: Ann\n",
            "Enter Prelim grade: 67\n",
            "Enter Midterm grade: 48\n",
            "Enter Final grade: 83\n",
            "Enter student's name: Bea\n",
            "Enter Prelim grade: 57\n",
            "Enter Midterm grade: 72\n",
            "Enter Final grade: 75\n",
            "Enter student's name: rehp\n",
            "Enter Prelim grade: 50\n",
            "Enter Midterm grade: 62\n",
            "Enter Final grade: 67\n",
            "\n",
            "Student Name: Ann\n",
            "Prelim Grade: 67.0\n",
            "Midterm Grade: 48.0\n",
            "Final Grade: 83.0\n",
            "Final Grade (Percentage): 66.00\n",
            "T.I.P. Numerical Grade: 2.25\n",
            "Descriptive Rating: Very Satisfactory\n",
            "\n",
            "Student Name: Bea\n",
            "Prelim Grade: 57.0\n",
            "Midterm Grade: 72.0\n",
            "Final Grade: 75.0\n",
            "Final Grade (Percentage): 68.00\n",
            "T.I.P. Numerical Grade: 2.25\n",
            "Descriptive Rating: Very Satisfactory\n",
            "\n",
            "Student Name: rehp\n",
            "Prelim Grade: 50.0\n",
            "Midterm Grade: 62.0\n",
            "Final Grade: 67.0\n",
            "Final Grade (Percentage): 59.67\n",
            "T.I.P. Numerical Grade: 2.75\n",
            "Descriptive Rating: Fair\n"
          ]
        }
      ]
    },
    {
      "cell_type": "code",
      "source": [],
      "metadata": {
        "id": "DFTDhiPS8Cbu"
      },
      "execution_count": null,
      "outputs": []
    }
  ]
}